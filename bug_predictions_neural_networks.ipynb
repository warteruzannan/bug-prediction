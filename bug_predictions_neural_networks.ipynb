{
  "nbformat": 4,
  "nbformat_minor": 0,
  "metadata": {
    "colab": {
      "name": "Bug Predictions - Neural Networks.ipynb",
      "provenance": [],
      "collapsed_sections": []
    },
    "kernelspec": {
      "name": "python3",
      "display_name": "Python 3"
    },
    "language_info": {
      "name": "python"
    }
  },
  "cells": [
    {
      "cell_type": "markdown",
      "source": [
        "# **Predição de bugs**\n",
        "\n",
        "### **Contexto**\n",
        "\n",
        "Durante o processo de desenvolvimento de softare podem acontecer diversas alterações no código e alguns bugs podem ser inseridos de forma não intencional. \n",
        "\n",
        "É muito importante que esses bugs sejam encontrados e corrigidos. Para isso, há diversas técnincas já conhecidas na comunidade de Engenharia de Software. Uma que vem sendo cada vez mais explorada é a utilização de algoritmos de ML para a realização dessa tarefa. \n",
        "\n",
        "### **Dataset**\n",
        "\n",
        "Um dataset bem interessante que pode ser utilizada para predizer *bugs*, *features* e *perguntas* é o GitHub Bugs Prediction (https://www.kaggle.com/datasets/anmolkumar/github-bugs-prediction).\n",
        "\n",
        "De forma resumida, o dataset contém o título e corpo de issues do github e para cada entrada há uma classe associada que diz qual se aquela issua está relacionada a uma feature, um bug ou uma dúvida. \n",
        "\n",
        "### **Tarefa**\n",
        "\n",
        "Originalmente, o dataset foi projetado para dizer se uma issue do github é uma feature, bug ou pergunta. Entretanto, visto a necessidade de identificar bugs no sofrtware e com o objetivo de simplificar a tarefa pretende-se trabalhar com os seguintes objetivos: \n",
        "\n",
        "\n",
        "> **Induzir um classificado capaz de predizer se determinada issue do github é um bug ou não. Ou seja, uma tarefa binária.**\n",
        "\n",
        "> **Comparar um rede neural profunda com o SVM**\n"
      ],
      "metadata": {
        "id": "YczsKsu3-7TF"
      }
    },
    {
      "cell_type": "code",
      "execution_count": 1,
      "metadata": {
        "id": "56mW2VvHKh2t"
      },
      "outputs": [],
      "source": [
        "# Importação das biliotecas necessárias importação do databaset\n",
        "import pandas as pd\n",
        "import numpy as np\n",
        "import matplotlib.pyplot as plt\n",
        "\n",
        "import warnings\n",
        "warnings.filterwarnings(\"ignore\")\n",
        "%matplotlib inline"
      ]
    },
    {
      "cell_type": "markdown",
      "source": [
        "**Descrição do dataset**"
      ],
      "metadata": {
        "id": "i7t4JmPAFqLj"
      }
    },
    {
      "cell_type": "code",
      "source": [
        "train_df = pd.read_json(\"embold_train.json\").reset_index(drop=True)\n",
        "train_extra_df = pd.read_json(\"embold_train_extra.json\").reset_index(drop=True)"
      ],
      "metadata": {
        "id": "8Nz5sLHqFeRq"
      },
      "execution_count": 16,
      "outputs": []
    },
    {
      "cell_type": "code",
      "source": [
        "print(\"Linhas X Colunas\")\n",
        "print(\"*****************************************************************\")\n",
        "print(\"Embold_train - Dadaset de treino reduzido: \", train_df.shape)\n",
        "print(\"Embold_train_extra - Dadaset de trein completo:\", train_extra_df.shape)\n",
        "print(\"*****************************************************************\")"
      ],
      "metadata": {
        "colab": {
          "base_uri": "https://localhost:8080/"
        },
        "id": "nYKQ9RNUH1ej",
        "outputId": "f94c1a5b-9914-4bb9-d59e-041cf481df94"
      },
      "execution_count": 17,
      "outputs": [
        {
          "output_type": "stream",
          "name": "stdout",
          "text": [
            "Linhas X Colunas\n",
            "*****************************************************************\n",
            "Embold_train - Dadaset de treino reduzido:  (150000, 3)\n",
            "Embold_train_extra - Dadaset de trein completo: (300000, 3)\n",
            "*****************************************************************\n"
          ]
        }
      ]
    },
    {
      "cell_type": "markdown",
      "source": [
        "**Atributos do dataset**\n",
        "\n",
        "1.   Título da issue: *title*\n",
        "2.   Corpo da issue: *body*\n",
        "2.   Classe da issue:: *body*\n",
        "\n",
        "\n",
        "**Classes do dataset**\n",
        "\n",
        "1.   Bug: *0*\n",
        "2.   Feature: *1*\n",
        "2.   Question:: *2*\n",
        "\n",
        "**Classes do problema desse dataset**\n",
        "\n",
        "1.   É Bug: *1*\n",
        "2.   Não é bug: *0*\n",
        "\n",
        "\n",
        "\n"
      ],
      "metadata": {
        "id": "N4sAxcSqGyRv"
      }
    },
    {
      "cell_type": "code",
      "source": [
        "train_df.head()"
      ],
      "metadata": {
        "colab": {
          "base_uri": "https://localhost:8080/",
          "height": 207
        },
        "id": "KiAJAFGqGbtS",
        "outputId": "c06dbed9-34f4-4284-d181-8101179e0e67"
      },
      "execution_count": 18,
      "outputs": [
        {
          "output_type": "execute_result",
          "data": {
            "text/plain": [
              "                                               title  \\\n",
              "0                                  y-zoom piano roll   \n",
              "1                        buggy behavior in selection   \n",
              "2                                auto update feature   \n",
              "3                 filter out noisy endpoints in logs   \n",
              "4  enable pid on / pid off alarm actions for ardu...   \n",
              "\n",
              "                                                body  label  \n",
              "0        a y-zoom on the piano roll would be useful.      1  \n",
              "1  ! screenshot from 2016-02-23 21 27 40  https:/...      0  \n",
              "2  hi,\\r \\r great job so far, @saenzramiro ! : \\r...      1  \n",
              "3  i think we should stop logging requests to:\\r ...      1  \n",
              "4  expected behavior\\r alarm actions pid on and p...      0  "
            ],
            "text/html": [
              "\n",
              "  <div id=\"df-3fefa68a-a819-43ba-8c82-30a5883a7647\">\n",
              "    <div class=\"colab-df-container\">\n",
              "      <div>\n",
              "<style scoped>\n",
              "    .dataframe tbody tr th:only-of-type {\n",
              "        vertical-align: middle;\n",
              "    }\n",
              "\n",
              "    .dataframe tbody tr th {\n",
              "        vertical-align: top;\n",
              "    }\n",
              "\n",
              "    .dataframe thead th {\n",
              "        text-align: right;\n",
              "    }\n",
              "</style>\n",
              "<table border=\"1\" class=\"dataframe\">\n",
              "  <thead>\n",
              "    <tr style=\"text-align: right;\">\n",
              "      <th></th>\n",
              "      <th>title</th>\n",
              "      <th>body</th>\n",
              "      <th>label</th>\n",
              "    </tr>\n",
              "  </thead>\n",
              "  <tbody>\n",
              "    <tr>\n",
              "      <th>0</th>\n",
              "      <td>y-zoom piano roll</td>\n",
              "      <td>a y-zoom on the piano roll would be useful.</td>\n",
              "      <td>1</td>\n",
              "    </tr>\n",
              "    <tr>\n",
              "      <th>1</th>\n",
              "      <td>buggy behavior in selection</td>\n",
              "      <td>! screenshot from 2016-02-23 21 27 40  https:/...</td>\n",
              "      <td>0</td>\n",
              "    </tr>\n",
              "    <tr>\n",
              "      <th>2</th>\n",
              "      <td>auto update feature</td>\n",
              "      <td>hi,\\r \\r great job so far, @saenzramiro ! : \\r...</td>\n",
              "      <td>1</td>\n",
              "    </tr>\n",
              "    <tr>\n",
              "      <th>3</th>\n",
              "      <td>filter out noisy endpoints in logs</td>\n",
              "      <td>i think we should stop logging requests to:\\r ...</td>\n",
              "      <td>1</td>\n",
              "    </tr>\n",
              "    <tr>\n",
              "      <th>4</th>\n",
              "      <td>enable pid on / pid off alarm actions for ardu...</td>\n",
              "      <td>expected behavior\\r alarm actions pid on and p...</td>\n",
              "      <td>0</td>\n",
              "    </tr>\n",
              "  </tbody>\n",
              "</table>\n",
              "</div>\n",
              "      <button class=\"colab-df-convert\" onclick=\"convertToInteractive('df-3fefa68a-a819-43ba-8c82-30a5883a7647')\"\n",
              "              title=\"Convert this dataframe to an interactive table.\"\n",
              "              style=\"display:none;\">\n",
              "        \n",
              "  <svg xmlns=\"http://www.w3.org/2000/svg\" height=\"24px\"viewBox=\"0 0 24 24\"\n",
              "       width=\"24px\">\n",
              "    <path d=\"M0 0h24v24H0V0z\" fill=\"none\"/>\n",
              "    <path d=\"M18.56 5.44l.94 2.06.94-2.06 2.06-.94-2.06-.94-.94-2.06-.94 2.06-2.06.94zm-11 1L8.5 8.5l.94-2.06 2.06-.94-2.06-.94L8.5 2.5l-.94 2.06-2.06.94zm10 10l.94 2.06.94-2.06 2.06-.94-2.06-.94-.94-2.06-.94 2.06-2.06.94z\"/><path d=\"M17.41 7.96l-1.37-1.37c-.4-.4-.92-.59-1.43-.59-.52 0-1.04.2-1.43.59L10.3 9.45l-7.72 7.72c-.78.78-.78 2.05 0 2.83L4 21.41c.39.39.9.59 1.41.59.51 0 1.02-.2 1.41-.59l7.78-7.78 2.81-2.81c.8-.78.8-2.07 0-2.86zM5.41 20L4 18.59l7.72-7.72 1.47 1.35L5.41 20z\"/>\n",
              "  </svg>\n",
              "      </button>\n",
              "      \n",
              "  <style>\n",
              "    .colab-df-container {\n",
              "      display:flex;\n",
              "      flex-wrap:wrap;\n",
              "      gap: 12px;\n",
              "    }\n",
              "\n",
              "    .colab-df-convert {\n",
              "      background-color: #E8F0FE;\n",
              "      border: none;\n",
              "      border-radius: 50%;\n",
              "      cursor: pointer;\n",
              "      display: none;\n",
              "      fill: #1967D2;\n",
              "      height: 32px;\n",
              "      padding: 0 0 0 0;\n",
              "      width: 32px;\n",
              "    }\n",
              "\n",
              "    .colab-df-convert:hover {\n",
              "      background-color: #E2EBFA;\n",
              "      box-shadow: 0px 1px 2px rgba(60, 64, 67, 0.3), 0px 1px 3px 1px rgba(60, 64, 67, 0.15);\n",
              "      fill: #174EA6;\n",
              "    }\n",
              "\n",
              "    [theme=dark] .colab-df-convert {\n",
              "      background-color: #3B4455;\n",
              "      fill: #D2E3FC;\n",
              "    }\n",
              "\n",
              "    [theme=dark] .colab-df-convert:hover {\n",
              "      background-color: #434B5C;\n",
              "      box-shadow: 0px 1px 3px 1px rgba(0, 0, 0, 0.15);\n",
              "      filter: drop-shadow(0px 1px 2px rgba(0, 0, 0, 0.3));\n",
              "      fill: #FFFFFF;\n",
              "    }\n",
              "  </style>\n",
              "\n",
              "      <script>\n",
              "        const buttonEl =\n",
              "          document.querySelector('#df-3fefa68a-a819-43ba-8c82-30a5883a7647 button.colab-df-convert');\n",
              "        buttonEl.style.display =\n",
              "          google.colab.kernel.accessAllowed ? 'block' : 'none';\n",
              "\n",
              "        async function convertToInteractive(key) {\n",
              "          const element = document.querySelector('#df-3fefa68a-a819-43ba-8c82-30a5883a7647');\n",
              "          const dataTable =\n",
              "            await google.colab.kernel.invokeFunction('convertToInteractive',\n",
              "                                                     [key], {});\n",
              "          if (!dataTable) return;\n",
              "\n",
              "          const docLinkHtml = 'Like what you see? Visit the ' +\n",
              "            '<a target=\"_blank\" href=https://colab.research.google.com/notebooks/data_table.ipynb>data table notebook</a>'\n",
              "            + ' to learn more about interactive tables.';\n",
              "          element.innerHTML = '';\n",
              "          dataTable['output_type'] = 'display_data';\n",
              "          await google.colab.output.renderOutput(dataTable, element);\n",
              "          const docLink = document.createElement('div');\n",
              "          docLink.innerHTML = docLinkHtml;\n",
              "          element.appendChild(docLink);\n",
              "        }\n",
              "      </script>\n",
              "    </div>\n",
              "  </div>\n",
              "  "
            ]
          },
          "metadata": {},
          "execution_count": 18
        }
      ]
    },
    {
      "cell_type": "markdown",
      "source": [
        "## **Unificando os datasets.**\n",
        "\n",
        "Tanto o Embold_train e Embold_train_extra contêm os dados rotulados que podem ser usadas para treino, validação e teste. Para aumentar a quantidade de dados em todas as etapas, os datasets pode ser concatenados e as entradas duplicadas removidas. "
      ],
      "metadata": {
        "id": "sH_rvF9ZVBvH"
      }
    },
    {
      "cell_type": "code",
      "source": [
        "# Concatenando todos os dados\n",
        "full_train_databset = pd.concat([train_df, train_extra_df]).drop_duplicates(keep='first')\n",
        "train_extra_df = None\n",
        "train_df = None"
      ],
      "metadata": {
        "id": "z-yoWvBbKaYA"
      },
      "execution_count": 19,
      "outputs": []
    },
    {
      "cell_type": "markdown",
      "source": [
        "## **A quantidade de classes está balanceada?**\n",
        "\n",
        "Essa é um pergunta importante pois caso não esteja balanceadas, será necessário criar classes sintéticas. \n",
        "\n",
        "Como pode ser notado no gráfico a seguir, a quantidade de respostas está totalmente desbalanceada com relação à quantidade de bugs e features. Entretanto, como a tarefa é classificar se é bugs ou não, não será necessário tratar a quantidade de classes. "
      ],
      "metadata": {
        "id": "hZjnZ_xxNiGo"
      }
    },
    {
      "cell_type": "code",
      "source": [
        "print(full_train_databset['label'].value_counts())\n",
        "\n",
        "full_train_databset['label'].value_counts().sort_values().plot(kind = 'bar', figsize=(8,10), title=\"Balanceamento das classes\", rot=0)"
      ],
      "metadata": {
        "colab": {
          "base_uri": "https://localhost:8080/",
          "height": 693
        },
        "id": "q7ToGb2YM0xR",
        "outputId": "71cf5e89-ccb5-4ae2-b3af-fa049a39422e"
      },
      "execution_count": 20,
      "outputs": [
        {
          "output_type": "stream",
          "name": "stdout",
          "text": [
            "1    207318\n",
            "0    200481\n",
            "2     42201\n",
            "Name: label, dtype: int64\n"
          ]
        },
        {
          "output_type": "execute_result",
          "data": {
            "text/plain": [
              "<matplotlib.axes._subplots.AxesSubplot at 0x7fe225bd4410>"
            ]
          },
          "metadata": {},
          "execution_count": 20
        },
        {
          "output_type": "display_data",
          "data": {
            "text/plain": [
              "<Figure size 576x720 with 1 Axes>"
            ],
            "image/png": "[encoded data removed]"
          },
          "metadata": {
            "needs_background": "light"
          }
        }
      ]
    },
    {
      "cell_type": "markdown",
      "source": [
        "## **Transformando as classe Question em \"Não é bug\" IMPORTANTE!!!.**\n",
        "\n",
        "Como mencionado, pretende-se trabalhar com apenas duas classes: \"É bug\" ou \"Não é bug\". ***É Bug*** será representados por 1 e ***Não é Bug*** representado por 0. \n",
        "\n",
        "**Perceba que bug é originalmente representado por 0. Sendo assim, pretende-se alterar essa classe 0 (do dataset oringinal) para 1 e as classes 1 e 2 para 0.**\n",
        "\n"
      ],
      "metadata": {
        "id": "KU9MAMjdWIL6"
      }
    },
    {
      "cell_type": "code",
      "source": [
        "df_bug_oringal =  full_train_databset[full_train_databset[\"label\"] == 0]\n",
        "df_not_bug_oringal =  full_train_databset[full_train_databset[\"label\"] != 0]\n",
        "\n",
        "print(\"***********************************\")\n",
        "print(\"df_bug_oringal:\", df_bug_oringal.shape)\n",
        "print(\"df_bug_oringal classes:\", np.unique(df_bug_oringal.label))\n",
        "print(\"df_not_bug_oringal:\", df_not_bug_oringal.shape)\n",
        "print(\"df_not_bug_oringal classes:\", np.unique(df_not_bug_oringal.label))\n",
        "print(\"***********************************\")\n",
        "\n",
        "\n",
        "df_bug_oringal.loc[:, ('label')] = 1\n",
        "df_not_bug_oringal.loc[:, ('label')] = 0\n",
        "\n",
        "print(\"df_bug_oringal classes:\", np.unique(df_bug_oringal.label))\n",
        "print(\"df_not_bug_oringal classes:\", np.unique(df_not_bug_oringal.label))\n",
        "\n",
        "full_train_databset = pd.concat([df_bug_oringal, df_not_bug_oringal])\n",
        "df_bug_oringal = None\n",
        "df_not_bug_oringal = None\n",
        "full_train_databset.head()\n"
      ],
      "metadata": {
        "colab": {
          "base_uri": "https://localhost:8080/",
          "height": 345
        },
        "id": "DRb6fLnEXqiJ",
        "outputId": "f87cba45-a347-4267-da9b-183ab881b2c1"
      },
      "execution_count": 21,
      "outputs": [
        {
          "output_type": "stream",
          "name": "stdout",
          "text": [
            "***********************************\n",
            "df_bug_oringal: (200481, 3)\n",
            "df_bug_oringal classes: [0]\n",
            "df_not_bug_oringal: (249519, 3)\n",
            "df_not_bug_oringal classes: [1 2]\n",
            "***********************************\n",
            "df_bug_oringal classes: [1]\n",
            "df_not_bug_oringal classes: [0]\n"
          ]
        },
        {
          "output_type": "execute_result",
          "data": {
            "text/plain": [
              "                                                title  \\\n",
              "1                         buggy behavior in selection   \n",
              "4   enable pid on / pid off alarm actions for ardu...   \n",
              "5                       script stopped adding video's   \n",
              "9   en la org ull-esit-pl-1617 people info /nico/ ...   \n",
              "15                             filter floating points   \n",
              "\n",
              "                                                 body  label  \n",
              "1   ! screenshot from 2016-02-23 21 27 40  https:/...      1  \n",
              "4   expected behavior\\r alarm actions pid on and p...      1  \n",
              "5   a recent change in the youtube layout broke th...      1  \n",
              "9   \\r crguezl>ull-esit-pl-1617> people info /nico...      1  \n",
              "15  background\\r \\r we have identified a small num...      1  "
            ],
            "text/html": [
              "\n",
              "  <div id=\"df-fa72d52d-e88c-4d86-aefb-0575906d3fd7\">\n",
              "    <div class=\"colab-df-container\">\n",
              "      <div>\n",
              "<style scoped>\n",
              "    .dataframe tbody tr th:only-of-type {\n",
              "        vertical-align: middle;\n",
              "    }\n",
              "\n",
              "    .dataframe tbody tr th {\n",
              "        vertical-align: top;\n",
              "    }\n",
              "\n",
              "    .dataframe thead th {\n",
              "        text-align: right;\n",
              "    }\n",
              "</style>\n",
              "<table border=\"1\" class=\"dataframe\">\n",
              "  <thead>\n",
              "    <tr style=\"text-align: right;\">\n",
              "      <th></th>\n",
              "      <th>title</th>\n",
              "      <th>body</th>\n",
              "      <th>label</th>\n",
              "    </tr>\n",
              "  </thead>\n",
              "  <tbody>\n",
              "    <tr>\n",
              "      <th>1</th>\n",
              "      <td>buggy behavior in selection</td>\n",
              "      <td>! screenshot from 2016-02-23 21 27 40  https:/...</td>\n",
              "      <td>1</td>\n",
              "    </tr>\n",
              "    <tr>\n",
              "      <th>4</th>\n",
              "      <td>enable pid on / pid off alarm actions for ardu...</td>\n",
              "      <td>expected behavior\\r alarm actions pid on and p...</td>\n",
              "      <td>1</td>\n",
              "    </tr>\n",
              "    <tr>\n",
              "      <th>5</th>\n",
              "      <td>script stopped adding video's</td>\n",
              "      <td>a recent change in the youtube layout broke th...</td>\n",
              "      <td>1</td>\n",
              "    </tr>\n",
              "    <tr>\n",
              "      <th>9</th>\n",
              "      <td>en la org ull-esit-pl-1617 people info /nico/ ...</td>\n",
              "      <td>\\r crguezl&gt;ull-esit-pl-1617&gt; people info /nico...</td>\n",
              "      <td>1</td>\n",
              "    </tr>\n",
              "    <tr>\n",
              "      <th>15</th>\n",
              "      <td>filter floating points</td>\n",
              "      <td>background\\r \\r we have identified a small num...</td>\n",
              "      <td>1</td>\n",
              "    </tr>\n",
              "  </tbody>\n",
              "</table>\n",
              "</div>\n",
              "      <button class=\"colab-df-convert\" onclick=\"convertToInteractive('df-fa72d52d-e88c-4d86-aefb-0575906d3fd7')\"\n",
              "              title=\"Convert this dataframe to an interactive table.\"\n",
              "              style=\"display:none;\">\n",
              "        \n",
              "  <svg xmlns=\"http://www.w3.org/2000/svg\" height=\"24px\"viewBox=\"0 0 24 24\"\n",
              "       width=\"24px\">\n",
              "    <path d=\"M0 0h24v24H0V0z\" fill=\"none\"/>\n",
              "    <path d=\"M18.56 5.44l.94 2.06.94-2.06 2.06-.94-2.06-.94-.94-2.06-.94 2.06-2.06.94zm-11 1L8.5 8.5l.94-2.06 2.06-.94-2.06-.94L8.5 2.5l-.94 2.06-2.06.94zm10 10l.94 2.06.94-2.06 2.06-.94-2.06-.94-.94-2.06-.94 2.06-2.06.94z\"/><path d=\"M17.41 7.96l-1.37-1.37c-.4-.4-.92-.59-1.43-.59-.52 0-1.04.2-1.43.59L10.3 9.45l-7.72 7.72c-.78.78-.78 2.05 0 2.83L4 21.41c.39.39.9.59 1.41.59.51 0 1.02-.2 1.41-.59l7.78-7.78 2.81-2.81c.8-.78.8-2.07 0-2.86zM5.41 20L4 18.59l7.72-7.72 1.47 1.35L5.41 20z\"/>\n",
              "  </svg>\n",
              "      </button>\n",
              "      \n",
              "  <style>\n",
              "    .colab-df-container {\n",
              "      display:flex;\n",
              "      flex-wrap:wrap;\n",
              "      gap: 12px;\n",
              "    }\n",
              "\n",
              "    .colab-df-convert {\n",
              "      background-color: #E8F0FE;\n",
              "      border: none;\n",
              "      border-radius: 50%;\n",
              "      cursor: pointer;\n",
              "      display: none;\n",
              "      fill: #1967D2;\n",
              "      height: 32px;\n",
              "      padding: 0 0 0 0;\n",
              "      width: 32px;\n",
              "    }\n",
              "\n",
              "    .colab-df-convert:hover {\n",
              "      background-color: #E2EBFA;\n",
              "      box-shadow: 0px 1px 2px rgba(60, 64, 67, 0.3), 0px 1px 3px 1px rgba(60, 64, 67, 0.15);\n",
              "      fill: #174EA6;\n",
              "    }\n",
              "\n",
              "    [theme=dark] .colab-df-convert {\n",
              "      background-color: #3B4455;\n",
              "      fill: #D2E3FC;\n",
              "    }\n",
              "\n",
              "    [theme=dark] .colab-df-convert:hover {\n",
              "      background-color: #434B5C;\n",
              "      box-shadow: 0px 1px 3px 1px rgba(0, 0, 0, 0.15);\n",
              "      filter: drop-shadow(0px 1px 2px rgba(0, 0, 0, 0.3));\n",
              "      fill: #FFFFFF;\n",
              "    }\n",
              "  </style>\n",
              "\n",
              "      <script>\n",
              "        const buttonEl =\n",
              "          document.querySelector('#df-fa72d52d-e88c-4d86-aefb-0575906d3fd7 button.colab-df-convert');\n",
              "        buttonEl.style.display =\n",
              "          google.colab.kernel.accessAllowed ? 'block' : 'none';\n",
              "\n",
              "        async function convertToInteractive(key) {\n",
              "          const element = document.querySelector('#df-fa72d52d-e88c-4d86-aefb-0575906d3fd7');\n",
              "          const dataTable =\n",
              "            await google.colab.kernel.invokeFunction('convertToInteractive',\n",
              "                                                     [key], {});\n",
              "          if (!dataTable) return;\n",
              "\n",
              "          const docLinkHtml = 'Like what you see? Visit the ' +\n",
              "            '<a target=\"_blank\" href=https://colab.research.google.com/notebooks/data_table.ipynb>data table notebook</a>'\n",
              "            + ' to learn more about interactive tables.';\n",
              "          element.innerHTML = '';\n",
              "          dataTable['output_type'] = 'display_data';\n",
              "          await google.colab.output.renderOutput(dataTable, element);\n",
              "          const docLink = document.createElement('div');\n",
              "          docLink.innerHTML = docLinkHtml;\n",
              "          element.appendChild(docLink);\n",
              "        }\n",
              "      </script>\n",
              "    </div>\n",
              "  </div>\n",
              "  "
            ]
          },
          "metadata": {},
          "execution_count": 21
        }
      ]
    },
    {
      "cell_type": "markdown",
      "source": [
        "## **Balancemento das classes após a transformação do dataset?**\n",
        "\n",
        "Esse será o dataset final, então é importante sabe como ele está."
      ],
      "metadata": {
        "id": "pmdjz4ldcvRv"
      }
    },
    {
      "cell_type": "code",
      "source": [
        "print(full_train_databset['label'].value_counts())\n",
        "\n",
        "full_train_databset['label'].value_counts().sort_values().plot(kind = 'bar', figsize=(8,10), title=\"Balanceamento das classes\", rot=0)"
      ],
      "metadata": {
        "colab": {
          "base_uri": "https://localhost:8080/",
          "height": 677
        },
        "id": "M44CN1Micxy9",
        "outputId": "74207b17-2775-4106-9cb9-fc4a67a7cdd5"
      },
      "execution_count": 22,
      "outputs": [
        {
          "output_type": "stream",
          "name": "stdout",
          "text": [
            "0    249519\n",
            "1    200481\n",
            "Name: label, dtype: int64\n"
          ]
        },
        {
          "output_type": "execute_result",
          "data": {
            "text/plain": [
              "<matplotlib.axes._subplots.AxesSubplot at 0x7fe225c1c310>"
            ]
          },
          "metadata": {},
          "execution_count": 22
        },
        {
          "output_type": "display_data",
          "data": {
            "text/plain": [
              "<Figure size 576x720 with 1 Axes>"
            ],
            "image/png": "[encoded data removed]"
          },
          "metadata": {
            "needs_background": "light"
          }
        }
      ]
    },
    {
      "cell_type": "markdown",
      "source": [
        "## **Concatenando Título e Body**\n",
        "\n",
        "Como pode ser observado, tanto o título quanto o corpo contém informações que pode ser relevantes para a classificação. Portanto, pretende concatenar título e corpo em um único atributo. "
      ],
      "metadata": {
        "id": "Yiy56nkq4v6q"
      }
    },
    {
      "cell_type": "code",
      "source": [
        "full_train_databset.head()"
      ],
      "metadata": {
        "colab": {
          "base_uri": "https://localhost:8080/",
          "height": 207
        },
        "id": "UV8gYfKq5dhZ",
        "outputId": "e1a11afa-50c1-40ab-ec4c-717f42bd1507"
      },
      "execution_count": 23,
      "outputs": [
        {
          "output_type": "execute_result",
          "data": {
            "text/plain": [
              "                                                title  \\\n",
              "1                         buggy behavior in selection   \n",
              "4   enable pid on / pid off alarm actions for ardu...   \n",
              "5                       script stopped adding video's   \n",
              "9   en la org ull-esit-pl-1617 people info /nico/ ...   \n",
              "15                             filter floating points   \n",
              "\n",
              "                                                 body  label  \n",
              "1   ! screenshot from 2016-02-23 21 27 40  https:/...      1  \n",
              "4   expected behavior\\r alarm actions pid on and p...      1  \n",
              "5   a recent change in the youtube layout broke th...      1  \n",
              "9   \\r crguezl>ull-esit-pl-1617> people info /nico...      1  \n",
              "15  background\\r \\r we have identified a small num...      1  "
            ],
            "text/html": [
              "\n",
              "  <div id=\"df-468c4899-2765-4d8f-8d48-4a6cdbd214af\">\n",
              "    <div class=\"colab-df-container\">\n",
              "      <div>\n",
              "<style scoped>\n",
              "    .dataframe tbody tr th:only-of-type {\n",
              "        vertical-align: middle;\n",
              "    }\n",
              "\n",
              "    .dataframe tbody tr th {\n",
              "        vertical-align: top;\n",
              "    }\n",
              "\n",
              "    .dataframe thead th {\n",
              "        text-align: right;\n",
              "    }\n",
              "</style>\n",
              "<table border=\"1\" class=\"dataframe\">\n",
              "  <thead>\n",
              "    <tr style=\"text-align: right;\">\n",
              "      <th></th>\n",
              "      <th>title</th>\n",
              "      <th>body</th>\n",
              "      <th>label</th>\n",
              "    </tr>\n",
              "  </thead>\n",
              "  <tbody>\n",
              "    <tr>\n",
              "      <th>1</th>\n",
              "      <td>buggy behavior in selection</td>\n",
              "      <td>! screenshot from 2016-02-23 21 27 40  https:/...</td>\n",
              "      <td>1</td>\n",
              "    </tr>\n",
              "    <tr>\n",
              "      <th>4</th>\n",
              "      <td>enable pid on / pid off alarm actions for ardu...</td>\n",
              "      <td>expected behavior\\r alarm actions pid on and p...</td>\n",
              "      <td>1</td>\n",
              "    </tr>\n",
              "    <tr>\n",
              "      <th>5</th>\n",
              "      <td>script stopped adding video's</td>\n",
              "      <td>a recent change in the youtube layout broke th...</td>\n",
              "      <td>1</td>\n",
              "    </tr>\n",
              "    <tr>\n",
              "      <th>9</th>\n",
              "      <td>en la org ull-esit-pl-1617 people info /nico/ ...</td>\n",
              "      <td>\\r crguezl&gt;ull-esit-pl-1617&gt; people info /nico...</td>\n",
              "      <td>1</td>\n",
              "    </tr>\n",
              "    <tr>\n",
              "      <th>15</th>\n",
              "      <td>filter floating points</td>\n",
              "      <td>background\\r \\r we have identified a small num...</td>\n",
              "      <td>1</td>\n",
              "    </tr>\n",
              "  </tbody>\n",
              "</table>\n",
              "</div>\n",
              "      <button class=\"colab-df-convert\" onclick=\"convertToInteractive('df-468c4899-2765-4d8f-8d48-4a6cdbd214af')\"\n",
              "              title=\"Convert this dataframe to an interactive table.\"\n",
              "              style=\"display:none;\">\n",
              "        \n",
              "  <svg xmlns=\"http://www.w3.org/2000/svg\" height=\"24px\"viewBox=\"0 0 24 24\"\n",
              "       width=\"24px\">\n",
              "    <path d=\"M0 0h24v24H0V0z\" fill=\"none\"/>\n",
              "    <path d=\"M18.56 5.44l.94 2.06.94-2.06 2.06-.94-2.06-.94-.94-2.06-.94 2.06-2.06.94zm-11 1L8.5 8.5l.94-2.06 2.06-.94-2.06-.94L8.5 2.5l-.94 2.06-2.06.94zm10 10l.94 2.06.94-2.06 2.06-.94-2.06-.94-.94-2.06-.94 2.06-2.06.94z\"/><path d=\"M17.41 7.96l-1.37-1.37c-.4-.4-.92-.59-1.43-.59-.52 0-1.04.2-1.43.59L10.3 9.45l-7.72 7.72c-.78.78-.78 2.05 0 2.83L4 21.41c.39.39.9.59 1.41.59.51 0 1.02-.2 1.41-.59l7.78-7.78 2.81-2.81c.8-.78.8-2.07 0-2.86zM5.41 20L4 18.59l7.72-7.72 1.47 1.35L5.41 20z\"/>\n",
              "  </svg>\n",
              "      </button>\n",
              "      \n",
              "  <style>\n",
              "    .colab-df-container {\n",
              "      display:flex;\n",
              "      flex-wrap:wrap;\n",
              "      gap: 12px;\n",
              "    }\n",
              "\n",
              "    .colab-df-convert {\n",
              "      background-color: #E8F0FE;\n",
              "      border: none;\n",
              "      border-radius: 50%;\n",
              "      cursor: pointer;\n",
              "      display: none;\n",
              "      fill: #1967D2;\n",
              "      height: 32px;\n",
              "      padding: 0 0 0 0;\n",
              "      width: 32px;\n",
              "    }\n",
              "\n",
              "    .colab-df-convert:hover {\n",
              "      background-color: #E2EBFA;\n",
              "      box-shadow: 0px 1px 2px rgba(60, 64, 67, 0.3), 0px 1px 3px 1px rgba(60, 64, 67, 0.15);\n",
              "      fill: #174EA6;\n",
              "    }\n",
              "\n",
              "    [theme=dark] .colab-df-convert {\n",
              "      background-color: #3B4455;\n",
              "      fill: #D2E3FC;\n",
              "    }\n",
              "\n",
              "    [theme=dark] .colab-df-convert:hover {\n",
              "      background-color: #434B5C;\n",
              "      box-shadow: 0px 1px 3px 1px rgba(0, 0, 0, 0.15);\n",
              "      filter: drop-shadow(0px 1px 2px rgba(0, 0, 0, 0.3));\n",
              "      fill: #FFFFFF;\n",
              "    }\n",
              "  </style>\n",
              "\n",
              "      <script>\n",
              "        const buttonEl =\n",
              "          document.querySelector('#df-468c4899-2765-4d8f-8d48-4a6cdbd214af button.colab-df-convert');\n",
              "        buttonEl.style.display =\n",
              "          google.colab.kernel.accessAllowed ? 'block' : 'none';\n",
              "\n",
              "        async function convertToInteractive(key) {\n",
              "          const element = document.querySelector('#df-468c4899-2765-4d8f-8d48-4a6cdbd214af');\n",
              "          const dataTable =\n",
              "            await google.colab.kernel.invokeFunction('convertToInteractive',\n",
              "                                                     [key], {});\n",
              "          if (!dataTable) return;\n",
              "\n",
              "          const docLinkHtml = 'Like what you see? Visit the ' +\n",
              "            '<a target=\"_blank\" href=https://colab.research.google.com/notebooks/data_table.ipynb>data table notebook</a>'\n",
              "            + ' to learn more about interactive tables.';\n",
              "          element.innerHTML = '';\n",
              "          dataTable['output_type'] = 'display_data';\n",
              "          await google.colab.output.renderOutput(dataTable, element);\n",
              "          const docLink = document.createElement('div');\n",
              "          docLink.innerHTML = docLinkHtml;\n",
              "          element.appendChild(docLink);\n",
              "        }\n",
              "      </script>\n",
              "    </div>\n",
              "  </div>\n",
              "  "
            ]
          },
          "metadata": {},
          "execution_count": 23
        }
      ]
    },
    {
      "cell_type": "code",
      "source": [
        "def concat_title_body(x):\n",
        "    return x['title'] + \" \" + x['body']   \n",
        "\n",
        "full_train_databset['title_body']= full_train_databset.apply(lambda x : concat_title_body(x),axis=1)\n",
        "full_train_databset.head()"
      ],
      "metadata": {
        "colab": {
          "base_uri": "https://localhost:8080/",
          "height": 207
        },
        "id": "hX0zr3zh5mUh",
        "outputId": "41dcba40-8099-4ab3-b363-889dbd307641"
      },
      "execution_count": 24,
      "outputs": [
        {
          "output_type": "execute_result",
          "data": {
            "text/plain": [
              "                                                title  \\\n",
              "1                         buggy behavior in selection   \n",
              "4   enable pid on / pid off alarm actions for ardu...   \n",
              "5                       script stopped adding video's   \n",
              "9   en la org ull-esit-pl-1617 people info /nico/ ...   \n",
              "15                             filter floating points   \n",
              "\n",
              "                                                 body  label  \\\n",
              "1   ! screenshot from 2016-02-23 21 27 40  https:/...      1   \n",
              "4   expected behavior\\r alarm actions pid on and p...      1   \n",
              "5   a recent change in the youtube layout broke th...      1   \n",
              "9   \\r crguezl>ull-esit-pl-1617> people info /nico...      1   \n",
              "15  background\\r \\r we have identified a small num...      1   \n",
              "\n",
              "                                           title_body  \n",
              "1   buggy behavior in selection ! screenshot from ...  \n",
              "4   enable pid on / pid off alarm actions for ardu...  \n",
              "5   script stopped adding video's a recent change ...  \n",
              "9   en la org ull-esit-pl-1617 people info /nico/ ...  \n",
              "15  filter floating points background\\r \\r we have...  "
            ],
            "text/html": [
              "\n",
              "  <div id=\"df-fd775181-9e5a-4036-a9e5-bdc2e08a67b2\">\n",
              "    <div class=\"colab-df-container\">\n",
              "      <div>\n",
              "<style scoped>\n",
              "    .dataframe tbody tr th:only-of-type {\n",
              "        vertical-align: middle;\n",
              "    }\n",
              "\n",
              "    .dataframe tbody tr th {\n",
              "        vertical-align: top;\n",
              "    }\n",
              "\n",
              "    .dataframe thead th {\n",
              "        text-align: right;\n",
              "    }\n",
              "</style>\n",
              "<table border=\"1\" class=\"dataframe\">\n",
              "  <thead>\n",
              "    <tr style=\"text-align: right;\">\n",
              "      <th></th>\n",
              "      <th>title</th>\n",
              "      <th>body</th>\n",
              "      <th>label</th>\n",
              "      <th>title_body</th>\n",
              "    </tr>\n",
              "  </thead>\n",
              "  <tbody>\n",
              "    <tr>\n",
              "      <th>1</th>\n",
              "      <td>buggy behavior in selection</td>\n",
              "      <td>! screenshot from 2016-02-23 21 27 40  https:/...</td>\n",
              "      <td>1</td>\n",
              "      <td>buggy behavior in selection ! screenshot from ...</td>\n",
              "    </tr>\n",
              "    <tr>\n",
              "      <th>4</th>\n",
              "      <td>enable pid on / pid off alarm actions for ardu...</td>\n",
              "      <td>expected behavior\\r alarm actions pid on and p...</td>\n",
              "      <td>1</td>\n",
              "      <td>enable pid on / pid off alarm actions for ardu...</td>\n",
              "    </tr>\n",
              "    <tr>\n",
              "      <th>5</th>\n",
              "      <td>script stopped adding video's</td>\n",
              "      <td>a recent change in the youtube layout broke th...</td>\n",
              "      <td>1</td>\n",
              "      <td>script stopped adding video's a recent change ...</td>\n",
              "    </tr>\n",
              "    <tr>\n",
              "      <th>9</th>\n",
              "      <td>en la org ull-esit-pl-1617 people info /nico/ ...</td>\n",
              "      <td>\\r crguezl&gt;ull-esit-pl-1617&gt; people info /nico...</td>\n",
              "      <td>1</td>\n",
              "      <td>en la org ull-esit-pl-1617 people info /nico/ ...</td>\n",
              "    </tr>\n",
              "    <tr>\n",
              "      <th>15</th>\n",
              "      <td>filter floating points</td>\n",
              "      <td>background\\r \\r we have identified a small num...</td>\n",
              "      <td>1</td>\n",
              "      <td>filter floating points background\\r \\r we have...</td>\n",
              "    </tr>\n",
              "  </tbody>\n",
              "</table>\n",
              "</div>\n",
              "      <button class=\"colab-df-convert\" onclick=\"convertToInteractive('df-fd775181-9e5a-4036-a9e5-bdc2e08a67b2')\"\n",
              "              title=\"Convert this dataframe to an interactive table.\"\n",
              "              style=\"display:none;\">\n",
              "        \n",
              "  <svg xmlns=\"http://www.w3.org/2000/svg\" height=\"24px\"viewBox=\"0 0 24 24\"\n",
              "       width=\"24px\">\n",
              "    <path d=\"M0 0h24v24H0V0z\" fill=\"none\"/>\n",
              "    <path d=\"M18.56 5.44l.94 2.06.94-2.06 2.06-.94-2.06-.94-.94-2.06-.94 2.06-2.06.94zm-11 1L8.5 8.5l.94-2.06 2.06-.94-2.06-.94L8.5 2.5l-.94 2.06-2.06.94zm10 10l.94 2.06.94-2.06 2.06-.94-2.06-.94-.94-2.06-.94 2.06-2.06.94z\"/><path d=\"M17.41 7.96l-1.37-1.37c-.4-.4-.92-.59-1.43-.59-.52 0-1.04.2-1.43.59L10.3 9.45l-7.72 7.72c-.78.78-.78 2.05 0 2.83L4 21.41c.39.39.9.59 1.41.59.51 0 1.02-.2 1.41-.59l7.78-7.78 2.81-2.81c.8-.78.8-2.07 0-2.86zM5.41 20L4 18.59l7.72-7.72 1.47 1.35L5.41 20z\"/>\n",
              "  </svg>\n",
              "      </button>\n",
              "      \n",
              "  <style>\n",
              "    .colab-df-container {\n",
              "      display:flex;\n",
              "      flex-wrap:wrap;\n",
              "      gap: 12px;\n",
              "    }\n",
              "\n",
              "    .colab-df-convert {\n",
              "      background-color: #E8F0FE;\n",
              "      border: none;\n",
              "      border-radius: 50%;\n",
              "      cursor: pointer;\n",
              "      display: none;\n",
              "      fill: #1967D2;\n",
              "      height: 32px;\n",
              "      padding: 0 0 0 0;\n",
              "      width: 32px;\n",
              "    }\n",
              "\n",
              "    .colab-df-convert:hover {\n",
              "      background-color: #E2EBFA;\n",
              "      box-shadow: 0px 1px 2px rgba(60, 64, 67, 0.3), 0px 1px 3px 1px rgba(60, 64, 67, 0.15);\n",
              "      fill: #174EA6;\n",
              "    }\n",
              "\n",
              "    [theme=dark] .colab-df-convert {\n",
              "      background-color: #3B4455;\n",
              "      fill: #D2E3FC;\n",
              "    }\n",
              "\n",
              "    [theme=dark] .colab-df-convert:hover {\n",
              "      background-color: #434B5C;\n",
              "      box-shadow: 0px 1px 3px 1px rgba(0, 0, 0, 0.15);\n",
              "      filter: drop-shadow(0px 1px 2px rgba(0, 0, 0, 0.3));\n",
              "      fill: #FFFFFF;\n",
              "    }\n",
              "  </style>\n",
              "\n",
              "      <script>\n",
              "        const buttonEl =\n",
              "          document.querySelector('#df-fd775181-9e5a-4036-a9e5-bdc2e08a67b2 button.colab-df-convert');\n",
              "        buttonEl.style.display =\n",
              "          google.colab.kernel.accessAllowed ? 'block' : 'none';\n",
              "\n",
              "        async function convertToInteractive(key) {\n",
              "          const element = document.querySelector('#df-fd775181-9e5a-4036-a9e5-bdc2e08a67b2');\n",
              "          const dataTable =\n",
              "            await google.colab.kernel.invokeFunction('convertToInteractive',\n",
              "                                                     [key], {});\n",
              "          if (!dataTable) return;\n",
              "\n",
              "          const docLinkHtml = 'Like what you see? Visit the ' +\n",
              "            '<a target=\"_blank\" href=https://colab.research.google.com/notebooks/data_table.ipynb>data table notebook</a>'\n",
              "            + ' to learn more about interactive tables.';\n",
              "          element.innerHTML = '';\n",
              "          dataTable['output_type'] = 'display_data';\n",
              "          await google.colab.output.renderOutput(dataTable, element);\n",
              "          const docLink = document.createElement('div');\n",
              "          docLink.innerHTML = docLinkHtml;\n",
              "          element.appendChild(docLink);\n",
              "        }\n",
              "      </script>\n",
              "    </div>\n",
              "  </div>\n",
              "  "
            ]
          },
          "metadata": {},
          "execution_count": 24
        }
      ]
    },
    {
      "cell_type": "markdown",
      "source": [
        "## **Induzindo classificador baseline**\n",
        "\n",
        "Como tarefa final, pretend-se induzir um classificador que seja bom o suficiente para classificar issues em bug ou não. Para verificar se os classificadores são bons o suficiente, inicialmente busca-se induzir um classificador que irá servir como base de comparação para outros. Isso, todo classificador induzido deve ser melhor que esse baseline. "
      ],
      "metadata": {
        "id": "4d0-vkFB78Z8"
      }
    },
    {
      "cell_type": "code",
      "source": [
        "from sklearn.feature_extraction.text import TfidfVectorizer\n",
        "from sklearn.linear_model import SGDClassifier\n",
        "from sklearn.neural_network import MLPClassifier\n",
        "from sklearn.ensemble import RandomForestClassifier\n",
        "from sklearn.model_selection import train_test_split\n",
        "from sklearn import metrics"
      ],
      "metadata": {
        "id": "Kd-1lR8n-0Nn"
      },
      "execution_count": 6,
      "outputs": []
    },
    {
      "cell_type": "code",
      "source": [
        "vectorizer = TfidfVectorizer()\n",
        "df = vectorizer.fit_transform(full_train_databset['title_body'].values)\n",
        "\n",
        "X_train, X_test, y_train, y_test = train_test_split(df, full_train_databset['label'].values, test_size=0.33, random_state=42)\n",
        "df = None"
      ],
      "metadata": {
        "id": "MzSjEY8AqOaI"
      },
      "execution_count": 25,
      "outputs": []
    },
    {
      "cell_type": "code",
      "source": [
        "#clf = SGDClassifier(loss='hinge', penalty='l2', alpha=1e-3, random_state=42, max_iter=5, tol=None)\n",
        "clf = RandomForestClassifier(max_depth=2, random_state=0)\n",
        "clf.fit(X_train, y_train) "
      ],
      "metadata": {
        "colab": {
          "base_uri": "https://localhost:8080/"
        },
        "id": "Io2WYhkSMURF",
        "outputId": "f6e73c70-a108-4c82-90f5-6f5fc6f99d3c"
      },
      "execution_count": 26,
      "outputs": [
        {
          "output_type": "execute_result",
          "data": {
            "text/plain": [
              "RandomForestClassifier(max_depth=2, random_state=0)"
            ]
          },
          "metadata": {},
          "execution_count": 26
        }
      ]
    },
    {
      "cell_type": "code",
      "source": [
        "predicted = clf.predict(X_test)"
      ],
      "metadata": {
        "id": "J8vOtZAgoyc1"
      },
      "execution_count": 27,
      "outputs": []
    },
    {
      "cell_type": "code",
      "source": [
        "print(metrics.classification_report(y_test, predicted,target_names=['Bug', 'Não Bug']))"
      ],
      "metadata": {
        "colab": {
          "base_uri": "https://localhost:8080/"
        },
        "id": "EDEkmlDAMXMt",
        "outputId": "1f337ad4-d724-41c8-d4d5-4c14a264e573"
      },
      "execution_count": 28,
      "outputs": [
        {
          "output_type": "stream",
          "name": "stdout",
          "text": [
            "              precision    recall  f1-score   support\n",
            "\n",
            "         Bug       0.55      1.00      0.71     82363\n",
            "     Não Bug       1.00      0.00      0.00     66137\n",
            "\n",
            "    accuracy                           0.55    148500\n",
            "   macro avg       0.78      0.50      0.36    148500\n",
            "weighted avg       0.75      0.55      0.40    148500\n",
            "\n"
          ]
        }
      ]
    },
    {
      "cell_type": "code",
      "source": [
        ""
      ],
      "metadata": {
        "id": "Bii5e1vgpRbT"
      },
      "execution_count": null,
      "outputs": []
    }
  ]
}